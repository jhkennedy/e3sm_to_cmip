{
  "cells": [
    {
      "cell_type": "markdown",
      "source": "\nThis is the script serves as a record of how I generated the `levgrnd_bnds`, \nwhich are saved as a constant in `e3sm_to_cmip/cmor_handlers/__init__.py`.\n",
      "metadata": {
        "pycharm": {
          "metadata": false,
          "name": "#%% md\n"
        }
      }
    },
    {
      "cell_type": "code",
      "execution_count": 0,
      "metadata": {
        "collapsed": true,
        "pycharm": {
          "is_executing": false
        }
      },
      "outputs": [],
      "source": "f \u003d cdms2.open(\u0027/p/user_pub/work/E3SM/1_0/piControl/1deg_atm_60-30km_ocean/land/129x256/model-output/mon/ens1/v1/20180129.DECKv1b_piControl.ne30_oEC.edison.clm2.h0.0001-01.nc\u0027)\ndzsoi \u003d f(\u0027DZSOI\u0027)\nzsoi \u003d f(\u0027ZSOI\u0027)\n \nlevgrnd_bnds \u003d list()\nnewbnd \u003d 0\nfor idx, val in enumerate(dzsoi[:,0,0]):\n    levgrnd_bnds.append(newbnd)\n    newbnd \u003d newbnd + val\nlevgrnd_bnds.append( dzsoi[14,0,0]/2 + zsoi[14,0,0] )\n"
    }
  ],
  "metadata": {
    "language_info": {
      "codemirror_mode": {
        "name": "ipython",
        "version": 2
      },
      "file_extension": ".py",
      "mimetype": "text/x-python",
      "name": "python",
      "nbconvert_exporter": "python",
      "pygments_lexer": "ipython2",
      "version": "2.7.6"
    },
    "kernelspec": {
      "name": "python2",
      "language": "python",
      "display_name": "Python 2"
    },
    "stem_cell": {
      "cell_type": "raw",
      "source": "",
      "metadata": {
        "pycharm": {
          "metadata": false
        }
      }
    }
  },
  "nbformat": 4,
  "nbformat_minor": 0
}